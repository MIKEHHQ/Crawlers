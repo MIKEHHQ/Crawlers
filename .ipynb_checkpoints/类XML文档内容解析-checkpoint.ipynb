{
 "cells": [
  {
   "cell_type": "markdown",
   "metadata": {},
   "source": [
    "## 任务1 使用lxml库的etree模块加载类xml文档或字符串"
   ]
  },
  {
   "cell_type": "code",
   "execution_count": 4,
   "metadata": {},
   "outputs": [
    {
     "name": "stdout",
     "output_type": "stream",
     "text": [
      "<lxml.etree._ElementTree object at 0x00000282BB902F40>\n",
      "<html lang=\"en\">\n",
      "<head>\n",
      "\t<meta charset=\"UTF-8\"/>\n",
      "\t<title>Test Document</title>\n",
      "\t<meta name=\"viewport\" content=\"width=device-width, initial-scale=1\"/>\n",
      "\t<link rel=\"stylesheet\" href=\"bootstrap/css/bootstrap.min.css\"/>\n",
      "</head>\n",
      "<body>\t\n",
      "    <div><h1>&#27979;&#35797;&#25991;&#26723;</h1></div>\n",
      "    <div class=\"collapse navbar-collapse\" id=\"bs-example-navbar-collapse-1\">\n",
      "\t      <ul class=\"nav navbar-nav\">\n",
      "            \n",
      "\t        <li>\n",
      "\t        \t<a href=\"http://www.website1.com\">Link 1 <span class=\"sr-only\">(current)</span></a>\n",
      "\t        </li>\n",
      "\t        <li><a href=\"http://www.website2.com\">Link 2</a></li>\n",
      "\t        <li><a href=\"http://www.website3.com\">Link 3</a></li>\n",
      "\t       \t<li><a href=\"http://www.website4.com\">Link 4</a></li>\n",
      "\t       \n",
      "\t      </ul>\n",
      "    </div>\n",
      "    <div class=\"row products\">\n",
      "\t\t\t<div class=\"col-xs-12 col-sm-5 col-sm-offset-1 col-md-3 col-md-offset-0\">\n",
      "\t\t\t\t<img src=\"image/c1.jpg\" alt=\"\"/>\n",
      "\t\t\t\t<h3>Office 365</h3>\n",
      "\t\t\t\t<p>&#36141;&#20080; Office 365&#65292;&#20307;&#39564;&#26368;&#26032;&#29256;&#26412;&#30340; Word&#12289;Excel&#12289;PowerPoint &#31561;&#24120;&#29992;&#24212;&#29992;&#12290;</p>\n",
      "\t\t\t\t<a href=\"http://www.office365.com\">&#31435;&#21363;&#36141;&#20080; </a>\n",
      "\t\t\t\t<span class=\"buy-icon\">&gt;</span>\t\t\t\t\n",
      "\t\t\t</div>\n",
      "\t\t\t<div class=\"col-xs-12 col-sm-5  col-md-3\">\n",
      "\t\t\t\t<img src=\"image/c2.webp\" alt=\"\"/>\n",
      "\t\t\t\t<h3>wps office</h3>\n",
      "\t\t\t\t<p>&#36141;&#20080;wps Office&#65292;&#20307;&#39564;&#26368;&#26032;&#29256;&#26412;&#30340; WPS office &#24212;&#29992;&#12290;\n",
      "\t\t\t\t</p>\n",
      "\t\t\t\t<a href=\"https://www.wps.cn/\">&#31435;&#21363;&#36141;&#20080; </a>\n",
      "\t\t\t\t<span class=\"buy-icon\">&gt;</span>\n",
      "\t\t\t</div>\n",
      "    </div>\n",
      "    <script src=\"bootstrap/js/bootstrap.min.js\"/>\n",
      "</body>\n",
      "</html>\n"
     ]
    }
   ],
   "source": [
    "from lxml import etree\n",
    "\n",
    "et = etree.parse('samples\\htmlsample.htm')\n",
    "\n",
    "print(et)\n",
    "\n",
    "print(etree.tostring(et).decode('utf-8')) #输出与解码   "
   ]
  },
  {
   "cell_type": "markdown",
   "metadata": {},
   "source": [
    "## 任务2 获取文档中的所有Li元素\n",
    "### Li元素表示列表，通常出现在 ul 表示的弧块中"
   ]
  },
  {
   "cell_type": "code",
   "execution_count": 15,
   "metadata": {},
   "outputs": [
    {
     "name": "stdout",
     "output_type": "stream",
     "text": [
      "<Element li at 0x282bb94c400>\n",
      "li\n",
      "\n",
      "\t        \t\n",
      "Link 1 \n",
      "<Element li at 0x282bb94c080>\n",
      "li\n",
      "None\n",
      "Link 2\n",
      "<Element li at 0x282bb94cac0>\n",
      "li\n",
      "None\n",
      "Link 3\n",
      "<Element li at 0x282bb94cb00>\n",
      "li\n",
      "None\n",
      "Link 4\n"
     ]
    }
   ],
   "source": [
    "from lxml import etree\n",
    "\n",
    "htmldoc = etree.parse('samples\\htmlsample.htm')\n",
    "\n",
    "result = htmldoc.xpath('//li')#在任意路径上跑到li标签\n",
    "\n",
    "for i in result:\n",
    "    print(i)\n",
    "    print(i.tag)\n",
    "    print(i.text)\n",
    "    print(i.getchildren()[0].text)#引用他的text属性"
   ]
  },
  {
   "cell_type": "markdown",
   "metadata": {},
   "source": [
    "## 任务3 获取a元素的所有属性；"
   ]
  },
  {
   "cell_type": "code",
   "execution_count": 18,
   "metadata": {},
   "outputs": [
    {
     "name": "stdout",
     "output_type": "stream",
     "text": [
      "['http://www.website1.com', 'http://www.website2.com', 'http://www.website3.com', 'http://www.website4.com', 'http://www.office365.com', 'https://www.wps.cn/']\n"
     ]
    }
   ],
   "source": [
    "from lxml import etree\n",
    "\n",
    "htmldoc = etree.parse('samples\\htmlsample.htm')\n",
    "\n",
    "result = htmldoc.xpath('//a/@href')\n",
    "print(result)"
   ]
  },
  {
   "cell_type": "markdown",
   "metadata": {},
   "source": [
    "## 任务4 获取含有属性href且其值为 http://www.website1.com 的元素"
   ]
  },
  {
   "cell_type": "code",
   "execution_count": 21,
   "metadata": {},
   "outputs": [
    {
     "name": "stdout",
     "output_type": "stream",
     "text": [
      "a\n",
      "Link 1 \n"
     ]
    }
   ],
   "source": [
    "from lxml import etree\n",
    "\n",
    "htmldoc = etree.parse('samples\\htmlsample.htm')\n",
    "\n",
    "result = htmldoc.xpath('//a[@href=\"http://www.website1.com\"]')\n",
    "\n",
    "print(result[0].tag)\n",
    "print(result[0].text)"
   ]
  },
  {
   "cell_type": "markdown",
   "metadata": {},
   "source": [
    "## 任务5 获取倒数第一个li元素的内容"
   ]
  },
  {
   "cell_type": "code",
   "execution_count": 28,
   "metadata": {},
   "outputs": [
    {
     "name": "stdout",
     "output_type": "stream",
     "text": [
      "{'href': 'http://www.website4.com'}\n",
      "Link 4\n"
     ]
    }
   ],
   "source": [
    "from lxml import etree\n",
    "\n",
    "htmldoc = etree.parse('samples\\htmlsample.htm')\n",
    "\n",
    "result = htmldoc.xpath('//li[last()]')\n",
    "\n",
    "print(result[0].getchildren()[0].attrib)\n",
    "print(result[0].getchildren()[0].text)"
   ]
  },
  {
   "cell_type": "markdown",
   "metadata": {},
   "source": [
    "## 任务2 获取倒数第二个li元素的内容"
   ]
  },
  {
   "cell_type": "code",
   "execution_count": 31,
   "metadata": {},
   "outputs": [
    {
     "name": "stdout",
     "output_type": "stream",
     "text": [
      "['http://www.website3.com']\n"
     ]
    }
   ],
   "source": [
    "from lxml import etree\n",
    "\n",
    "htmldoc = etree.parse('samples\\htmlsample.htm')\n",
    "\n",
    "result = htmldoc.xpath('//li[last()-1]/a/@href')\n",
    "\n",
    "print(result)"
   ]
  },
  {
   "cell_type": "markdown",
   "metadata": {},
   "source": [
    "# 使用BeautifulSoup 库 解析类xml文档"
   ]
  },
  {
   "cell_type": "markdown",
   "metadata": {},
   "source": [
    "## 任务1 引入，加载带解析的html文档"
   ]
  },
  {
   "cell_type": "code",
   "execution_count": 37,
   "metadata": {},
   "outputs": [
    {
     "name": "stdout",
     "output_type": "stream",
     "text": [
      "<html lang=\"en\">\n",
      "<head>\n",
      "<meta charset=\"utf-8\"/>\n",
      "<title>Test Document</title>\n",
      "<meta content=\"width=device-width, initial-scale=1\" name=\"viewport\"/>\n",
      "<link href=\"bootstrap/css/bootstrap.min.css\" rel=\"stylesheet\"/>\n",
      "</head>\n",
      "<body>\n",
      "<div><h1>测试文档</h1></div>\n",
      "<div class=\"collapse navbar-collapse\" id=\"bs-example-navbar-collapse-1\">\n",
      "<ul class=\"nav navbar-nav\">\n",
      "<li>\n",
      "<a href=\"http://www.website1.com\">Link 1 <span class=\"sr-only\">(current)</span></a>\n",
      "</li>\n",
      "<li><a href=\"http://www.website2.com\">Link 2</a></li>\n",
      "<li><a href=\"http://www.website3.com\">Link 3</a></li>\n",
      "<li><a href=\"http://www.website4.com\">Link 4</a></li>\n",
      "</ul>\n",
      "</div>\n",
      "<div class=\"row products\">\n",
      "<div class=\"col-xs-12 col-sm-5 col-sm-offset-1 col-md-3 col-md-offset-0\">\n",
      "<img alt=\"\" src=\"image/c1.jpg\"/>\n",
      "<h3>Office 365</h3>\n",
      "<p>购买 Office 365，体验最新版本的 Word、Excel、PowerPoint 等常用应用。</p>\n",
      "<a href=\"http://www.office365.com\">立即购买 </a>\n",
      "<span class=\"buy-icon\">&gt;</span>\n",
      "</div>\n",
      "<div class=\"col-xs-12 col-sm-5 col-md-3\">\n",
      "<img alt=\"\" src=\"image/c2.webp\"/>\n",
      "<h3>wps office</h3>\n",
      "<p>购买wps Office，体验最新版本的 WPS office 应用。\n",
      "\t\t\t\t</p>\n",
      "<a href=\"https://www.wps.cn/\">立即购买 </a>\n",
      "<span class=\"buy-icon\">&gt;</span>\n",
      "</div>\n",
      "</div>\n",
      "<script src=\"bootstrap/js/bootstrap.min.js\"></script>\n",
      "</body>\n",
      "</html>\n"
     ]
    }
   ],
   "source": [
    "from bs4 import BeautifulSoup\n",
    "\n",
    "with open('samples\\htmlsample.htm','r',encoding='utf-8') as f:\n",
    "    bsobj = BeautifulSoup(f.read())\n",
    "    print(bsobj)"
   ]
  },
  {
   "cell_type": "markdown",
   "metadata": {},
   "source": [
    "## 任务2 使用tag对象属性，获取tag内容"
   ]
  },
  {
   "cell_type": "code",
   "execution_count": 44,
   "metadata": {},
   "outputs": [
    {
     "name": "stdout",
     "output_type": "stream",
     "text": [
      "<class 'bs4.BeautifulSoup'>\n",
      "<li>\n",
      "<a href=\"http://www.website1.com\">Link 1 <span class=\"sr-only\">(current)</span></a>\n",
      "</li>\n",
      "<a href=\"http://www.website1.com\">Link 1 <span class=\"sr-only\">(current)</span></a>\n",
      "<div><h1>测试文档</h1></div>\n"
     ]
    }
   ],
   "source": [
    "from bs4 import BeautifulSoup\n",
    "\n",
    "with open('samples\\htmlsample.htm','r',encoding='utf-8') as f:\n",
    "    bsobj = BeautifulSoup(f.read())\n",
    "    print(type(bsobj))\n",
    "    print(bsobj.li)#第一个li；使用（.tag）就是使用xpath解析；bsobj其实也是一个tag对象\n",
    "    print(bsobj.li.a)\n",
    "    print(bsobj.div)"
   ]
  },
  {
   "cell_type": "markdown",
   "metadata": {},
   "source": [
    "## 任务3 查找所有的Li元素，并返回其内容"
   ]
  },
  {
   "cell_type": "code",
   "execution_count": 45,
   "metadata": {},
   "outputs": [
    {
     "name": "stdout",
     "output_type": "stream",
     "text": [
      "[<li>\n",
      "<a href=\"http://www.website1.com\">Link 1 <span class=\"sr-only\">(current)</span></a>\n",
      "</li>, <li><a href=\"http://www.website2.com\">Link 2</a></li>, <li><a href=\"http://www.website3.com\">Link 3</a></li>, <li><a href=\"http://www.website4.com\">Link 4</a></li>]\n"
     ]
    }
   ],
   "source": [
    "from bs4 import BeautifulSoup\n",
    "\n",
    "with open('samples\\htmlsample.htm','r',encoding='utf-8') as f:\n",
    "    bsobj = BeautifulSoup(f.read())\n",
    "    result = bsobj.find_all(name = bsobj.li.name)\n",
    "    print(result)"
   ]
  },
  {
   "cell_type": "markdown",
   "metadata": {},
   "source": [
    "## 任务4 查找标题为“wps office”的超链接"
   ]
  },
  {
   "cell_type": "code",
   "execution_count": 51,
   "metadata": {},
   "outputs": [
    {
     "name": "stdout",
     "output_type": "stream",
     "text": [
      "<h3>wps office</h3>\n",
      "https://www.wps.cn/\n"
     ]
    }
   ],
   "source": [
    "from bs4 import BeautifulSoup\n",
    "\n",
    "with open('samples\\htmlsample.htm','r',encoding='utf-8') as f:\n",
    "    bsobj = BeautifulSoup(f.read())\n",
    "    result = bsobj.findAll(name = \"div\")#第一类BeautifulSoup对象继承自tag类 ；二标签对象tag，属性1有name,body,li,a,2有attrs；\n",
    "    for i in result:\n",
    "        if i.h3 and i.h3.string == \"wps office\":#三可遍历的字符串对象（使用.string）包含在标签中;四注释对象\n",
    "            print(i.h3)\n",
    "            if i.a:\n",
    "                print(i.a.attrs['href'])#访问字典的关键词"
   ]
  },
  {
   "cell_type": "code",
   "execution_count": null,
   "metadata": {},
   "outputs": [],
   "source": []
  }
 ],
 "metadata": {
  "kernelspec": {
   "display_name": "Python 3",
   "language": "python",
   "name": "python3"
  },
  "language_info": {
   "codemirror_mode": {
    "name": "ipython",
    "version": 3
   },
   "file_extension": ".py",
   "mimetype": "text/x-python",
   "name": "python",
   "nbconvert_exporter": "python",
   "pygments_lexer": "ipython3",
   "version": "3.8.3"
  }
 },
 "nbformat": 4,
 "nbformat_minor": 4
}
