{
 "cells": [
  {
   "cell_type": "markdown",
   "metadata": {},
   "source": [
    "# 自动跨越身份认证"
   ]
  },
  {
   "cell_type": "markdown",
   "metadata": {},
   "source": [
    "## 1 跨越HTTPBasic认证"
   ]
  },
  {
   "cell_type": "code",
   "execution_count": 5,
   "metadata": {
    "scrolled": true
   },
   "outputs": [
    {
     "name": "stdout",
     "output_type": "stream",
     "text": [
      "{'Date': 'Tue, 04 Aug 2020 14:27:05 GMT', 'Content-Type': 'application/json', 'Content-Length': '47', 'Connection': 'keep-alive', 'Server': 'gunicorn/19.9.0', 'Access-Control-Allow-Origin': '*', 'Access-Control-Allow-Credentials': 'true'}\n"
     ]
    },
    {
     "data": {
      "text/plain": [
       "'{\\n  \"authenticated\": true, \\n  \"user\": \"nini\"\\n}\\n'"
      ]
     },
     "execution_count": 5,
     "metadata": {},
     "output_type": "execute_result"
    }
   ],
   "source": [
    "import requests\n",
    "\n",
    "def getHtmlwithHttpBasicAuth(url,username,password):\n",
    "    try:\n",
    "        headers = {'Accept': 'text/html,application/xhtml+xml,application/xml;q=0.9,image/webp,image/apng,*/*;q=0.8,application/signed-exchange;v=b3;q=0.9',\n",
    "                    'User-Agent': 'Mozilla/5.0 (Windows NT 10.0; Win64; x64) AppleWebKit/537.36 (KHTML, like Gecko) Chrome/84.0.4147.105 Safari/537.36 Edg/84.0.522.52'\n",
    "        }\n",
    "        \n",
    "        s = requests.Session()\n",
    "        r = s.get(url,headers = headers,auth = requests.auth.HTTPBasicAuth(username,password))\n",
    "        r.raise_for_status()\n",
    "        print(r.headers)\n",
    "        return r.text\n",
    "    except Exception as e:\n",
    "        print(e)\n",
    "        \n",
    "        \n",
    "url = 'https://www.httpbin.org/basic-auth/nini/12315'\n",
    "getHtmlwithHttpBasicAuth(url,'nini','12315')"
   ]
  },
  {
   "cell_type": "markdown",
   "metadata": {},
   "source": [
    "## 2 跨越HTTP Digest认证"
   ]
  },
  {
   "cell_type": "code",
   "execution_count": 8,
   "metadata": {},
   "outputs": [
    {
     "name": "stdout",
     "output_type": "stream",
     "text": [
      "{'Date': 'Tue, 04 Aug 2020 14:47:25 GMT', 'Content-Type': 'application/json', 'Content-Length': '51', 'Connection': 'keep-alive', 'Server': 'gunicorn/19.9.0', 'Set-Cookie': 'fake=fake_value; Path=/, stale_after=never; Path=/', 'Access-Control-Allow-Origin': '*', 'Access-Control-Allow-Credentials': 'true'}\n"
     ]
    },
    {
     "data": {
      "text/plain": [
       "'{\\n  \"authenticated\": true, \\n  \"user\": \"hong0012\"\\n}\\n'"
      ]
     },
     "execution_count": 8,
     "metadata": {},
     "output_type": "execute_result"
    }
   ],
   "source": [
    "import requests\n",
    "\n",
    "def getHtmlwithHttpDigestAuth(url,username,password):\n",
    "    try:\n",
    "        headers = {'Accept': 'text/html,application/xhtml+xml,application/xml;q=0.9,image/webp,image/apng,*/*;q=0.8,application/signed-exchange;v=b3;q=0.9',\n",
    "                    'User-Agent': 'Mozilla/5.0 (Windows NT 10.0; Win64; x64) AppleWebKit/537.36 (KHTML, like Gecko) Chrome/84.0.4147.105 Safari/537.36 Edg/84.0.522.52'\n",
    "        }\n",
    "        \n",
    "        s = requests.Session()\n",
    "        r = s.get(url,headers = headers,auth = requests.auth.HTTPDigestAuth(username,password))\n",
    "        r.raise_for_status()\n",
    "        print(r.headers)\n",
    "        return r.text\n",
    "    except Exception as e:\n",
    "        print(e)\n",
    "        \n",
    "        \n",
    "url = 'http://www.httpbin.org/digest-auth/auth/hong0012/20200804'\n",
    "getHtmlwithHttpDigestAuth(url,'hong0012','20200804')"
   ]
  },
  {
   "cell_type": "markdown",
   "metadata": {},
   "source": [
    "## 3 跨越Oauth 认证"
   ]
  }
 ],
 "metadata": {
  "kernelspec": {
   "display_name": "Python 3",
   "language": "python",
   "name": "python3"
  },
  "language_info": {
   "codemirror_mode": {
    "name": "ipython",
    "version": 3
   },
   "file_extension": ".py",
   "mimetype": "text/x-python",
   "name": "python",
   "nbconvert_exporter": "python",
   "pygments_lexer": "ipython3",
   "version": "3.8.3"
  }
 },
 "nbformat": 4,
 "nbformat_minor": 4
}
