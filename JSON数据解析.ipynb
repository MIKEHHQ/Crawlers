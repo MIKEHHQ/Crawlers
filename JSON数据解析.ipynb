{
 "cells": [
  {
   "cell_type": "markdown",
   "metadata": {},
   "source": [
    "# JSON数据解析"
   ]
  },
  {
   "cell_type": "markdown",
   "metadata": {},
   "source": [
    "## 任务1 实现python数据结构与JSON字符串直接的转换"
   ]
  },
  {
   "cell_type": "code",
   "execution_count": 2,
   "metadata": {},
   "outputs": [
    {
     "name": "stdout",
     "output_type": "stream",
     "text": [
      "{\"no\": 1, \"name\": \"Mike\", \"score\": 90.5}\n",
      "{'no': 1, 'name': 'Mike', 'score': 90.5}\n"
     ]
    }
   ],
   "source": [
    "import json\n",
    "\n",
    "dictdata = {\n",
    "    'no':1,\n",
    "    'name':'Mike',\n",
    "    'score':90.5\n",
    "}\n",
    "\n",
    "jsonstr =  json.dumps(dictdata)#\n",
    "print(jsonstr)\n",
    "\n",
    "adict = json.loads(jsonstr)\n",
    "print(adict)"
   ]
  },
  {
   "cell_type": "markdown",
   "metadata": {},
   "source": [
    "## 任务2 读取json文件，获取兴趣数据内容"
   ]
  },
  {
   "cell_type": "code",
   "execution_count": 29,
   "metadata": {
    "scrolled": true
   },
   "outputs": [
    {
     "name": "stdout",
     "output_type": "stream",
     "text": [
      "{'employees': [{'firstName': 'Bill', 'lastName': 'Gates'}, {'firstName': 'George', 'lastName': 'Bush'}, {'firstName': 'Thomas', 'lastName': 'Carter'}]}\n",
      "employees\n",
      "[{'firstName': 'Bill', 'lastName': 'Gates'}, {'firstName': 'George', 'lastName': 'Bush'}, {'firstName': 'Thomas', 'lastName': 'Carter'}]\n"
     ]
    }
   ],
   "source": [
    "import json\n",
    "\n",
    "adict = {}\n",
    "with open('samples/jsonsample.json','r',encoding = 'utf-8') as f:\n",
    "    adict = json.load(fp = f)\n",
    "    print(adict)\n",
    "    for key,value in adict.items():\n",
    "        print(key)\n",
    "        print(value)\n",
    "b = dict(manager = [{'firstname':'Donald','lastName':'Trump'}])\n",
    "adict.update(b)\n",
    "with open('samples/jsonsample2.json','w',encoding = 'utf-8') as f:\n",
    "    json.dump(adict,fp=f)"
   ]
  }
 ],
 "metadata": {
  "kernelspec": {
   "display_name": "Python 3",
   "language": "python",
   "name": "python3"
  },
  "language_info": {
   "codemirror_mode": {
    "name": "ipython",
    "version": 3
   },
   "file_extension": ".py",
   "mimetype": "text/x-python",
   "name": "python",
   "nbconvert_exporter": "python",
   "pygments_lexer": "ipython3",
   "version": "3.8.3"
  }
 },
 "nbformat": 4,
 "nbformat_minor": 4
}
