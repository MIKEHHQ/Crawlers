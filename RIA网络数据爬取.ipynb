{
 "cells": [
  {
   "cell_type": "markdown",
   "metadata": {},
   "source": [
    "# RIA网络数据爬取"
   ]
  },
  {
   "cell_type": "markdown",
   "metadata": {},
   "source": [
    "## 1 安装 selenium 和chromedriver"
   ]
  },
  {
   "cell_type": "code",
   "execution_count": 2,
   "metadata": {
    "scrolled": true
   },
   "outputs": [
    {
     "name": "stdout",
     "output_type": "stream",
     "text": [
      "Help on package selenium:\n",
      "\n",
      "NAME\n",
      "    selenium\n",
      "\n",
      "DESCRIPTION\n",
      "    # Licensed to the Software Freedom Conservancy (SFC) under one\n",
      "    # or more contributor license agreements.  See the NOTICE file\n",
      "    # distributed with this work for additional information\n",
      "    # regarding copyright ownership.  The SFC licenses this file\n",
      "    # to you under the Apache License, Version 2.0 (the\n",
      "    # \"License\"); you may not use this file except in compliance\n",
      "    # with the License.  You may obtain a copy of the License at\n",
      "    #\n",
      "    #   http://www.apache.org/licenses/LICENSE-2.0\n",
      "    #\n",
      "    # Unless required by applicable law or agreed to in writing,\n",
      "    # software distributed under the License is distributed on an\n",
      "    # \"AS IS\" BASIS, WITHOUT WARRANTIES OR CONDITIONS OF ANY\n",
      "    # KIND, either express or implied.  See the License for the\n",
      "    # specific language governing permissions and limitations\n",
      "    # under the License.\n",
      "\n",
      "PACKAGE CONTENTS\n",
      "    common (package)\n",
      "    webdriver (package)\n",
      "\n",
      "VERSION\n",
      "    3.141.0\n",
      "\n",
      "FILE\n",
      "    d:\\anaconda3\\lib\\site-packages\\selenium\\__init__.py\n",
      "\n",
      "\n"
     ]
    }
   ],
   "source": [
    "import selenium\n",
    "\n",
    "help(selenium)"
   ]
  },
  {
   "cell_type": "markdown",
   "metadata": {},
   "source": [
    "## 2 使用Seleniuum爬取RIA网站信息"
   ]
  },
  {
   "cell_type": "code",
   "execution_count": 14,
   "metadata": {
    "scrolled": true
   },
   "outputs": [
    {
     "name": "stdout",
     "output_type": "stream",
     "text": [
      "百度一下，你就知道\n",
      "selenium_百度搜索\n"
     ]
    }
   ],
   "source": [
    "from selenium import webdriver\n",
    "from selenium.common.exceptions import TimeoutException\n",
    "from selenium.webdriver.support.ui import WebDriverWait\n",
    "from selenium.webdriver.support import expected_conditions as EC\n",
    "import time\n",
    "\n",
    "driver = webdriver.Edge()\n",
    "\n",
    "driver.get(\"http://www.baidu.com\")\n",
    "\n",
    "print(driver.title)\n",
    "\n",
    "imputElement = driver.find_element_by_id(\"kw\")\n",
    "\n",
    "imputElement.send_keys(\"selenium\")\n",
    "\n",
    "imputElement.submit()\n",
    "\n",
    "try:\n",
    "    WebDriverWait(driver,10).until(EC.title_contains(\"selenium\"))\n",
    "    \n",
    "    print(driver.title)\n",
    "    time.sleep(10)\n",
    "except Expection as e:\n",
    "    print(e)\n",
    "finally:\n",
    "    driver.quit()"
   ]
  },
  {
   "cell_type": "markdown",
   "metadata": {},
   "source": [
    "## 3 获取页面和页面元素"
   ]
  },
  {
   "cell_type": "code",
   "execution_count": 13,
   "metadata": {},
   "outputs": [
    {
     "name": "stdout",
     "output_type": "stream",
     "text": [
      "百度一下，你就知道\n",
      "明星亲授叶谷菊!为什么叶谷菊这么受欢迎?\n",
      "selenium__软件测试培训_免费领取试听课程\n",
      "Selenium_百度百科\n",
      "Selenium automates browsers. That's it!\n",
      "selenium安装一款任何网站都能抓取的爬虫工具\n",
      "selenium库的基本使用 - 简书\n",
      "selenium中文网 | selenium安装、selenium使用、selenium中文...\n",
      "Selenium教程系列(一):介绍_kingzhsh的博客-CSDN博客_selenium\n",
      "Python Selenium库的使用_凯耐的博客-CSDN博客\n",
      "selenium_百度翻译\n",
      "python client for selenium - selenium · PyPI\n",
      "GitHub - SeleniumHQ/selenium: A browser automation framework...\n"
     ]
    }
   ],
   "source": [
    "from selenium import webdriver\n",
    "from selenium.common.exceptions import TimeoutException\n",
    "from selenium.webdriver.support.ui import WebDriverWait\n",
    "from selenium.webdriver.support import expected_conditions as EC\n",
    "import time\n",
    "\n",
    "driver = webdriver.Edge()\n",
    "\n",
    "driver.get(\"http://www.baidu.com\")\n",
    "\n",
    "print(driver.title)\n",
    "\n",
    "imputElement = driver.find_element_by_id(\"kw\")\n",
    "\n",
    "imputElement.send_keys(\"selenium\")\n",
    "\n",
    "imputElement.submit()\n",
    "\n",
    "try:\n",
    "    WebDriverWait(driver,10).until(EC.title_contains(\"selenium\"))\n",
    "    \n",
    "    results = driver.find_elements_by_xpath('//h3/a')\n",
    "    \n",
    "    for r in results:\n",
    "        print(r.text)\n",
    "    \n",
    "    time.sleep(10)\n",
    "except Exception as e:\n",
    "    print(e)\n",
    "finally:\n",
    "    driver.quit()"
   ]
  },
  {
   "cell_type": "markdown",
   "metadata": {},
   "source": [
    "# 设置鼠标动作链"
   ]
  },
  {
   "cell_type": "code",
   "execution_count": null,
   "metadata": {},
   "outputs": [],
   "source": []
  }
 ],
 "metadata": {
  "kernelspec": {
   "display_name": "Python 3",
   "language": "python",
   "name": "python3"
  },
  "language_info": {
   "codemirror_mode": {
    "name": "ipython",
    "version": 3
   },
   "file_extension": ".py",
   "mimetype": "text/x-python",
   "name": "python",
   "nbconvert_exporter": "python",
   "pygments_lexer": "ipython3",
   "version": "3.8.3"
  }
 },
 "nbformat": 4,
 "nbformat_minor": 4
}
