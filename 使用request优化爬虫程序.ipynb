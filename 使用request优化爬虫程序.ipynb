{
 "cells": [
  {
   "cell_type": "markdown",
   "metadata": {},
   "source": [
    "# 任务\n",
    "1. 构建框架"
   ]
  },
  {
   "cell_type": "code",
   "execution_count": 5,
   "metadata": {
    "scrolled": true,
    "tags": []
   },
   "outputs": [
    {
     "output_type": "stream",
     "name": "stdout",
     "text": "Help on package requests:\n\nNAME\n    requests\n\nDESCRIPTION\n    Requests HTTP Library\n    ~~~~~~~~~~~~~~~~~~~~~\n    \n    Requests is an HTTP library, written in Python, for human beings.\n    Basic GET usage:\n    \n       >>> import requests\n       >>> r = requests.get('https://www.python.org')\n       >>> r.status_code\n       200\n       >>> b'Python is a programming language' in r.content\n       True\n    \n    ... or POST:\n    \n       >>> payload = dict(key1='value1', key2='value2')\n       >>> r = requests.post('https://httpbin.org/post', data=payload)\n       >>> print(r.text)\n       {\n         ...\n         \"form\": {\n           \"key1\": \"value1\",\n           \"key2\": \"value2\"\n         },\n         ...\n       }\n    \n    The other HTTP methods are supported - see `requests.api`. Full documentation\n    is at <https://requests.readthedocs.io>.\n    \n    :copyright: (c) 2017 by Kenneth Reitz.\n    :license: Apache 2.0, see LICENSE for more details.\n\nPACKAGE CONTENTS\n    __version__\n    _internal_utils\n    adapters\n    api\n    auth\n    certs\n    compat\n    cookies\n    exceptions\n    help\n    hooks\n    models\n    packages\n    sessions\n    status_codes\n    structures\n    utils\n\nFUNCTIONS\n    check_compatibility(urllib3_version, chardet_version)\n\nDATA\n    __author_email__ = 'me@kennethreitz.org'\n    __build__ = 140288\n    __cake__ = '✨ 🍰 ✨'\n    __copyright__ = 'Copyright 2020 Kenneth Reitz'\n    __description__ = 'Python HTTP for Humans.'\n    __license__ = 'Apache 2.0'\n    __title__ = 'requests'\n    __url__ = 'https://requests.readthedocs.io'\n    codes = <lookup 'status_codes'>\n\nVERSION\n    2.24.0\n\nAUTHOR\n    Kenneth Reitz\n\nFILE\n    d:\\anaconda3\\lib\\site-packages\\requests\\__init__.py\n\n\n"
    }
   ],
   "source": [
    "import requests\n",
    "\n",
    "help(requests)"
   ]
  },
  {
   "cell_type": "code",
   "execution_count": 6,
   "metadata": {
    "tags": []
   },
   "outputs": [
    {
     "output_type": "stream",
     "name": "stdout",
     "text": "<!DOCTYPE html>\n<!--STATUS OK--><html> <head><meta http-equiv=content-type content=text/html;charset=utf-8><meta http-equiv=X-UA-Compatible content=IE=Edge><meta content=always name=referrer><link rel=stylesheet type=text/css href=http://s1.bdstatic.com/r/www/cache/bdorz/baidu.min.css><title>ç¾åº¦ä¸ä¸ï¼ä½ å°±ç¥é</title></head> <body link=#0000cc> <div id=wrapper> <div id=head> <div class=head_wrapper> <div class=s_form> <div class=s_form_wrapper> <div id=lg> <img hidefocus=true src=//www.baidu.com/img/bd_logo1.png width=270 height=129> </div> <form id=form name=f action=//www.baidu.com/s class=fm> <input type=hidden name=bdorz_come value=1> <input type=hidden name=ie value=utf-8> <input type=hidden name=f value=8> <input type=hidden name=rsv_bp value=1> <input type=hidden name=rsv_idx value=1> <input type=hidden name=tn value=baidu><span class=\"bg s_ipt_wr\"><input id=kw name=wd class=s_ipt value maxlength=255 autocomplete=off autofocus></span><span class=\"bg s_btn_wr\"><input type=submit id=su value=ç¾åº¦ä¸ä¸ class=\"bg s_btn\"></span> </form> </div> </div> <div id=u1> <a href=http://news.baidu.com name=tj_trnews class=mnav>æ°é»</a> <a href=http://www.hao123.com name=tj_trhao123 class=mnav>hao123</a> <a href=http://map.baidu.com name=tj_trmap class=mnav>å°å¾</a> <a href=http://v.baidu.com name=tj_trvideo class=mnav>è§é¢</a> <a href=http://tieba.baidu.com name=tj_trtieba class=mnav>è´´å§</a> <noscript> <a href=http://www.baidu.com/bdorz/login.gif?login&amp;tpl=mn&amp;u=http%3A%2F%2Fwww.baidu.com%2f%3fbdorz_come%3d1 name=tj_login class=lb>ç»å½</a> </noscript> <script>document.write('<a href=\"http://www.baidu.com/bdorz/login.gif?login&tpl=mn&u='+ encodeURIComponent(window.location.href+ (window.location.search === \"\" ? \"?\" : \"&\")+ \"bdorz_come=1\")+ '\" name=\"tj_login\" class=\"lb\">ç»å½</a>');</script> <a href=//www.baidu.com/more/ name=tj_briicon class=bri style=\"display: block;\">æ´å¤äº§å</a> </div> </div> </div> <div id=ftCon> <div id=ftConw> <p id=lh> <a href=http://home.baidu.com>å³äºç¾åº¦</a> <a href=http://ir.baidu.com>About Baidu</a> </p> <p id=cp>&copy;2017&nbsp;Baidu&nbsp;<a href=http://www.baidu.com/duty/>ä½¿ç¨ç¾åº¦åå¿è¯»</a>&nbsp; <a href=http://jianyi.baidu.com/ class=cp-feedback>æè§åé¦</a>&nbsp;äº¬ICPè¯030173å·&nbsp; <img src=//www.baidu.com/img/gs.gif> </p> </div> </div> </div> </body> </html>\n\n"
    }
   ],
   "source": [
    "import requests\n",
    "url = \"http://www.baidu.com\"\n",
    "r = requests.get(url)\n",
    "print(r.text)\n"
   ]
  },
  {
   "cell_type": "code",
   "execution_count": 7,
   "metadata": {},
   "outputs": [
    {
     "output_type": "execute_result",
     "data": {
      "text/plain": "'Some exception raised'"
     },
     "metadata": {},
     "execution_count": 7
    }
   ],
   "source": [
    "def getHtml(url):\n",
    "    try:\n",
    "        r = request.get(url)\n",
    "        print(r)\n",
    "        r.raise_for_status()\n",
    "        r.encodeing = r.apparent_encoding\n",
    "        return r.text\n",
    "    except:\n",
    "        return \"Some exception raised\"\n",
    "    \n",
    "url = \"http://www.baidu.com\"\n",
    "getHtml(url)"
   ]
  },
  {
   "cell_type": "markdown",
   "metadata": {},
   "source": [
    "# 定制http请求头，传递参数"
   ]
  },
  {
   "cell_type": "markdown",
   "metadata": {},
   "source": [
    "### 使用Get方法提交参数"
   ]
  },
  {
   "cell_type": "code",
   "execution_count": 8,
   "metadata": {},
   "outputs": [
    {
     "output_type": "execute_result",
     "data": {
      "text/plain": "'Some exception raised'"
     },
     "metadata": {},
     "execution_count": 8
    }
   ],
   "source": [
    "import requests\n",
    "def getHtml(url,querystr):\n",
    "    try:\n",
    "        headers = {\"user-agent\": \"Mozilla/5.0 (Windows NT 10.0; Win64; x64) AppleWebKit/537.36 (KHTML, like Gecko) Chrome/84.0.4147.105 Safari/537.36 Edg/84.0.522.52\"}\n",
    "        queryload = {'wd':querystr}\n",
    "        r = request.get(url,parans = queryload,headers = headers)\n",
    "        r.raise_for_status()\n",
    "        r.encodeing = r.apparent_encoding\n",
    "        return r.text\n",
    "    except:\n",
    "        return \"Some exception raised\"\n",
    "    \n",
    "url = \"http://www.baidu.com/s?\"\n",
    "getHtml(url,'beijin')"
   ]
  },
  {
   "cell_type": "markdown",
   "metadata": {},
   "source": [
    "### 使用Post方法传递参数"
   ]
  },
  {
   "cell_type": "code",
   "execution_count": 9,
   "metadata": {
    "scrolled": true
   },
   "outputs": [
    {
     "output_type": "execute_result",
     "data": {
      "text/plain": "'0000000067ac1e8c0167c99dfbab00cf\\')\" title=\"中小企业按揭贷款\">中小企业按揭贷款</a></h3>\\r\\n\\t\\t\\t        <div class=\"cs\">\\r\\n\\t\\t\\t        \\t<strong>0-3000万元</strong>\\r\\n\\t\\t\\t        \\t<i>贷款利率<b>4.35-8.70%</b></i>\\r\\n\\t\\t\\t        \\t<span>贷款期限：3年以上</span>\\r\\n\\t\\t\\t        \\t<span>贷款银行：渤海银行</span>\\r\\n\\t\\t\\t        </div>\\r\\n\\t\\t\\t        <div class=\"sqbox\">\\r\\n\\t\\t\\t          <input type=\"submit\" onclick=\"appPage(\\'0000000067ac1e8c0167c99dfbab00cf\\');return false;\"  value=\"我要申请\">\\r\\n\\t\\t\\t        </div>\\r\\n\\t\\t\\t    </div>\\r\\n    \\t\\t\\t\\n    \\t\\t\\t<div class=\"clist\"> <span class=\"xdtag\">资产抵押</span>\\r\\n\\t\\t\\t        <h3><a href=\"javascript:\" onclick=\"funcApp(\\'0000000067ac1e8c0167c99e6a0d00d5\\')\" title=\"小微企业房抵快贷\">小微企业房抵快贷</a></h3>\\r\\n\\t\\t\\t        <div class=\"cs\">\\r\\n\\t\\t\\t        \\t<strong>0-1000万元</strong>\\r\\n\\t\\t\\t        \\t<i>贷款利率<b>4.35-6.53%</b></i>\\r\\n\\t\\t\\t        \\t<span>贷款期限：3年以上</span>\\r\\n\\t\\t\\t        \\t<span>贷款银行：浦发银行</span>\\r\\n\\t\\t\\t        </div>\\r\\n\\t\\t\\t        <div class=\"sqbox\">\\r\\n\\t\\t\\t          <input type=\"submit\" onclick=\"appPage(\\'0000000067ac1e8c0167c99e6a0d00d5\\');return false;\"  value=\"我要申请\">\\r\\n\\t\\t\\t        </div>\\r\\n\\t\\t\\t    </div>\\r\\n    \\t\\t\\t\\n    \\t\\t\\t<div class=\"clist\"> <span class=\"xdtag\">抵押</span>\\r\\n\\t\\t\\t        <h3><a href=\"javascript:\" onclick=\"funcApp(\\'0000000067ac1e8c0167c99e8e4600d8\\')\" title=\"小微企业抵押贷款\">小微企业抵押贷款</a></h3>\\r\\n\\t\\t\\t        <div class=\"cs\">\\r\\n\\t\\t\\t        \\t<strong>1-1000万元</strong>\\r\\n\\t\\t\\t        \\t<i>贷款利率<b>4.35-10.00%</b></i>\\r\\n\\t\\t\\t        \\t<span>贷款期限：3年以上</span>\\r\\n\\t\\t\\t        \\t<span>贷款银行：招商银行</span>\\r\\n\\t\\t\\t        </div>\\r\\n\\t\\t\\t        <div class=\"sqbox\">\\r\\n\\t\\t\\t          <input type=\"submit\" onclick=\"appPage(\\'0000000067ac1e8c0167c99e8e4600d8\\');return false;\"  value=\"我要申请\">\\r\\n\\t\\t\\t        </div>\\r\\n\\t\\t\\t    </div>\\r\\n    \\t\\t\\t\\r\\n    \\t\\t\\r\\n    \\t\\r\\n       \\r\\n    </div>\\r\\n    <div class=\"pgct\"  style=\"position: relative;\">\\r\\n    <div style=\"width:370px;height:40px;position: absolute;right:1px;z-index:95;box-shadow: rgba(0, 0, 0, 0.6) 0px 0px 1px 10000px;display:none;\" id=\"guide5\"></div>\\r\\n    <img style=\"display:none;z-index: 99;position: absolute;right: -10px;bottom: -30px;\" src=\"images/bankEtps/page_right_left.png\" id=\"guide_page4\" >\\r\\n    <img style=\"display:none;z-index: 99;position: absolute;right:385px;bottom: 1px;\" src=\"images/bankEtps/arrow-right.png\" id=\"guide_page6\" >\\r\\n    <img style=\"display:none;z-index: 99;position: absolute;right:50px;bottom: 60px;cursor: pointer\" src=\"images/bankEtps/next_white.png\" id=\"guide_page5\" onmousemove=\"nextGuide(\\'move\\',\\'guide_page5\\')\" onmouseout=\"nextGuide(\\'out\\',\\'guide_page5\\')\" onclick=\"closePage2Guide(\\'1\\');return false;\">\\r\\n      <table>\\r\\n        <tr align=\"right\">\\r\\n          <td >\\r\\n          \\n\\t\\t\\t\\r\\n\\t\\t\\t上一页&nbsp;\\r\\n\\t\\t\\t\\r\\n\\t\\t\\t\\r\\n\\t\\t\\t\\n\\t\\t\\t\\t\\n\\t\\t\\t\\t\\t<a href=\"javascript:\" onclick=\"pageGo(\\'2\\');return false;\" class=\"nxt\">下一页</a>\\r\\n\\t\\t\\t\\t\\r\\n\\t\\t\\t\\t\\r\\n\\t\\t\\t\\r\\n          \\t&nbsp;&nbsp;第1页/共5页， 到第 <input type=\"text\" id=\"pageNos\" class=\"text_paging\" onkeyup=\"value=value.replace(/[^\\\\d]/g,\\'\\')\"> 页\\r\\n          &nbsp;&nbsp;&nbsp;&nbsp;<input type=\"submit\"   onclick=\"pageGo(-1);return false;\"value=\"确定\"></td>\\r\\n        </tr>\\r\\n      </table>\\r\\n    </div>\\r\\n  </div>\\r\\n </form> \\r\\n</div>\\r\\n<!-- 遮盖 -->\\r\\n<div id=\"hiddenDiv\"\\r\\n\\tstyle=\"position: fixed; top: 0; right: 0;bottom: 0;left: 0; overflow: hidden;outline: 0;\\r\\n\\t visibility: hidden; z-index: 96; opacity: 0.8; overflow: auto;\">\\r\\n</div>\\r\\n\\r\\n<link href=\"http://xwqy.gsxt.gov.cn/css/piao.css\" rel=\"stylesheet\" type=\"text/css\" />\\r\\n<style>\\r\\n\\r\\n\\t.detail3 {\\r\\n \\ttext-align: center;\\r\\n\\tz-index: 2000;\\r\\n\\tposition: fixed;\\r\\n\\tborder-radius: 5px;\\r\\n\\tbackground-color: #fff;\\r\\n\\tdisplay: none;\\r\\n\\tbox-shadow: 0px 0px 1px 10000px rgba(0, 0, 0, 0.6);\\r\\n}\\r\\n\\r\\n.detail_title3 {\\r\\n\\tpadding: 12px;\\r\\n\\tposition: relative;\\r\\n\\tcursor: move;\\r\\n\\tbackground: #588fc9;\\r\\n\\tborder-radius: 5px 5px 0 0;\\r\\n\\t-webkit-border-radius: 5px 5px 0 0;\\r\\n\\t-moz-border-radius: 5px 5px 0 0;\\r\\n}\\r\\n\\r\\n.detail_title3 .close {\\r\\n\\tfloat: right;\\r\\n\\tcolor: #fff;\\r\\n\\tpadding: 5px;\\r\\n\\tfont: bold 16px/14px simsun;\\r\\n}\\r\\n.words3{\\r\\n\\t font-size: 20px;\\r\\n     font-weight: 900;\\r\\n     color: #FFF;\\r\\n}\\r\\n.tableInput3 { width: 100%;}\\r\\n.tableInput3 th { font-size: 14px; color: #333; font-weight: 400; text-align: right; padding-right: 6px;}\\r\\n.tableInput3 th b { font-size:16px; font-weight: 400; color:#e42b2c; padding-right:4px; vertical-align:middle; }\\r\\n.tableInput3 td { padding: 5px; text-align: left;}\\r\\n.tableInput3 td textarea { width: 91%; height: 60px; border: 1px solid #b9cbdf; max-height: 112px; resize: none; text-indent: 8px;}\\r\\n.tableInput3 td input { width: 80%; height: 30px; border: 1px solid #b9cbdf; text-indent: 8px; }\\r\\n.btn_submit3 { font-size:14px ; color: #fff; border-radius: 3px; -webkit-border-radius:3px; -moz-border-radius:3px; -ms-border-radius:3px; border: none; width: 114px; height: 34px; background: #588fc9; cursor: pointer; }\\r\\n</style>\\r\\n<script type=\"text/javascript\" src=\"http://xwqy.gsxt.gov.cn/js/jquery.base64.js\" charset=\"utf-8\"></script>\\r\\n<div class=\"rNav\">\\r\\n  <div class=\"qmn\">快捷<br>菜单</div>\\r\\n  <ul>\\r\\n    <li class=\"lk01\"><a href=\"javascript:;\" onclick=\"javascript:financialCreditNva();return false;\">| 信贷服务</a></li>\\r\\n    <li class=\"lk02\"><a href=\"javascript:;\" onclick=\"javascript:myAppNva();return false;\">| 我的申请</a></li>\\r\\n  </ul>\\r\\n</div>\\r\\n\\r\\n<!-- 验证码弹窗 -->\\r\\n<div id=\"loading3\" class=\"detail3\"\\r\\n\\t\\tstyle=\"width: 40%; height: 40%;top: 20%; left:30%;line-height: 20px;\">\\r\\n\\t\\t<div class=\"detail_title3\">\\r\\n\\t\\t\\t<a href=\"javascript:;\" title=\"关闭\" class=\"close\" onclick=\"operClose3()\">×</a>\\r\\n\\t\\t\\t<span class=\"words3\">登录后查看申请信息</span>\\r\\n\\r\\n\\t\\t</div>\\r\\n\\t\\t<div class=\"\"  style=\"top: 20px; right:100px;bottom: 100px;left: 350px;line-height: 20px;\\r\\n\\t\\t\\t text-align: center;padding-top: 10px;magin:auto\">\\r\\n\\t\\t\\t<table class=\"tableInput3\"  id=\"phoneLogin3\" style= \"margin-top:10px;margin-left:-30px;\">\\r\\n\\t\\t\\t\\t <tr>\\r\\n\\t\\t\\t\\t \\t<th style=\"width:35%\"><span style=\"color: red\">*</span>手机号:</th>\\r\\n\\t\\t\\t\\t \\t<td style=\"width:65%\" colspan=\"2\"><input type=\"text\"  maxlength=\"11\"  id=\"mobileNo3\" style=\"width:80%\"  placeholder=\"手机号\"></td>\\r\\n\\t\\t\\t\\t </tr>\\r\\n\\t\\t\\t\\t <tr>\\r\\n\\t\\t\\t\\t \\t<th style=\"width:35%\"><span style=\"color: red\">*</span>验证码:</th>\\r\\n\\t\\t\\t\\t \\t<td style=\"width:30%\"><input type=\"text\" id=\"captcha3\" style=\"width:100%\"  placeholder=\"短信验证码\" ></td>\\r\\n                    <td style=\"width:42%\"><input type=\"button\" style=\"width: 63%\" value=\"获取验证码\" id=\"btn_etps3\" class=\"btn_submit3\" onclick=\"settime3(this);return false;\"></td>\\r\\n\\t\\t\\t\\t </tr>\\r\\n\\t\\t\\t\\t <tr >\\r\\n\\t\\t\\t\\t \\t<th style=\"width:35%\"></th>\\r\\n\\t\\t\\t\\t \\t<td colspan=\"2\" style=\"text-align:left\" > \\r\\n\\t\\t\\t\\t \\t<button  class=\"btn_submit3\" onclick=\"javascript:loginNameChe3();return false;\"  style=\"width: 80%; height: 40px;\">登录</button></td>\\r\\n\\t\\t\\t\\t </tr>\\r\\n\\t\\t\\t</table>\\r\\n\\t\\t</div>\\r\\n\\t</div>\\r\\n<script>\\r\\nfunction financialCreditNva() {\\r\\n\\tvar form = $(document.createElement(\"form\")).attr(\"method\", \"POST\").attr(\"action\", \"etps/productInfoList\");\\r\\n\\tform.appendTo(\"body\").submit();\\t\\r\\n}\\r\\nfunction myAppNva() { \\r\\n\\tvar loginName = $(\"#loginName\").val();\\r\\n\\tif(loginName==\\'\\'){\\r\\n\\t\\t$(\"#hiddenDiv\").css(\"visibility\",\"visible\");\\r\\n\\t\\t$(\"#loading3\").slideDown(200);\\r\\n\\t}else{\\r\\n\\t\\tvar form = $(document.createElement(\"form\")).attr(\"target\", \"_blank \").attr(\"method\", \"POST\").attr(\"action\", \"http://xwqy.gsxt.gov.cn/etps/productAppList\");\\r\\n\\t\\tform.appendTo(\"body\").submit(); \\r\\n\\t\\toperClose3();\\r\\n\\t}\\r\\n}\\r\\nfunction operClose3(){\\r\\n\\t$(\"#hiddenDiv\").css(\"visibility\",\"hidden\");\\r\\n\\t$(\"#loading3\").slideUp(200);\\r\\n}\\r\\n//设置时间倒计时，不用担心countDown暴露\\r\\nvar countdown3 = 60;\\r\\nvar t3;\\r\\nfunction settime3(obj) {\\r\\n\\tclearTimeout(t3);\\r\\n\\t$(\"#btn_etps3\").val(\"获取验证码\");\\r\\n\\t$(\"#btn_etps3\").removeAttr(\"disabled\");\\r\\n\\tcountdown = 60;\\r\\n\\tif (countdown3 == 60) {\\r\\n\\t\\tif ($(\"#mobileNo3\").val() == \\'\\') {\\r\\n\\t\\t\\tdlog.tips(\"手机号不能为空\");\\r\\n\\t\\t\\treturn;\\r\\n\\t\\t}\\r\\n\\t\\tvar reg = /^(1|00861|(\\\\+861))+\\\\d{10}$/;\\r\\n\\t\\tif (reg.test($(\"#mobileNo3\").val())) {\\r\\n\\t\\t\\tsendcode3(\"a\");//手机号登录验证码获取 \\r\\n\\t\\t} else {\\r\\n\\t\\t\\tdlog.tips(\"手机号格式错误\");\\r\\n\\t\\t\\treturn;\\r\\n\\t\\t}\\r\\n\\t}\\t\\t\\r\\n\\tif (countdown3 == 0) {\\r\\n\\t\\tobj.removeAttribute(\"disabled\");\\r\\n\\t\\tobj.value = \"获取验证码\";\\r\\n\\t\\tcountdown3 = 60;\\r\\n\\t\\treturn;\\r\\n\\t} else {\\r\\n\\t\\tobj.setAttribute(\"disabled\", true);\\r\\n\\t\\tobj.value = \"重新发送(\" + countdown3 + \")\";\\r\\n\\t\\tcountdown3--;\\r\\n\\t}\\t\\t\\r\\n\\tt3 = setTimeout(function() {\\r\\n\\t\\tsettime3(obj);\\r\\n\\t}, 1000);\\t//每经过一秒执行一次该方法\\r\\n}\\r\\n//手机号登录获取验证码\\r\\nfunction sendcode3(flg) {\\r\\n\\tvar etps = new Object();\\r\\n\\tif(flg==\\'a\\'){\\r\\n\\t\\tetps.mobileNo= $(\"#mobileNo3\").val();\\r\\n\\t\\t   var judge=\"mobile\";\\r\\n\\t\\t\\t$.ajax({  \\r\\n\\t\\t\\t        type:\\'post\\',      \\r\\n\\t\\t\\t        url:\"http://xwqy.gsxt.gov.cn/etps/sendCode\",\\r\\n\\t\\t\\t        data:{\"mobileNo\":etps.mobileNo,\\r\\n\\t\\t\\t        \\t\"judge\":judge},\\r\\n\\t\\t\\t        dataType: \"text\",\\r\\n\\t\\t\\t        success:function(data){\\r\\n\\t\\t\\t        \\tvar d = eval(\"(\"+data+\")\");\\r\\n\\t\\t\\t        \\tif (d.code == \"200\") {//成功获取手机号\\r\\n\\t\\t\\t\\t\\t\\t\\t//$(\"#captcha1\").val(d.verifyCode);\\r\\n\\t\\t\\t\\t\\t\\t\\tdlog.tips(d.message);\\r\\n\\t\\t\\t\\t\\t\\t}else if (d.code == \"400\") {//未在规定的时间内获取\\r\\n\\t\\t\\t\\t\\t\\t\\tcountdown3 = d.residueTime;\\r\\n\\t\\t\\t\\t\\t\\t}else{\\r\\n\\t\\t\\t        \\t\\tdlog.tips(d.message);\\r\\n\\t\\t\\t        \\t  }\\r\\n\\t\\t\\t        }\\r\\n\\t\\t\\t\\t  });\\r\\n\\t}else{\\r\\n\\t\\tvar judge=\"license\";\\r\\n\\t\\t$.ajax({  \\r\\n\\t\\t        type:\\'post\\',      \\r\\n\\t\\t        url:\"http://xwqy.gsxt.gov.cn/etps/sendCode\",\\r\\n\\t\\t       data:{\"judge\":judge\\r\\n\\t\\t        \\t      },\\r\\n\\t\\t        dataType: \"text\", \\r\\n\\t\\t        success:function(data){\\r\\n\\t\\t        \\tvar d = eval(\"(\"+data+\")\");\\r\\n\\t\\t        \\tif (d.code == \"200\") {//成功获取手机号\\r\\n\\t\\t\\t\\t\\t\\t//$(\"#captcha\").val(d.verifyCode);\\r\\n\\t\\t        \\t\\tdlog.tips(d.message);\\r\\n\\t\\t\\t\\t\\t}else if (d.code == \"400\") {//未在规定的时间内获取\\r\\n\\t\\t\\t\\t\\t\\tcountdown = d.residueTime;\\r\\n\\t\\t\\t\\t\\t}else{\\r\\n\\t\\t        \\t\\tdlog.tips(d.message);\\r\\n\\t\\t        \\t  }\\r\\n\\t\\t        }\\r\\n\\t\\t\\t  });\\r\\n\\t}\\r\\n\\t\\r\\n}\\r\\n//手机号登录\\r\\nfunction loginNameChe3() {\\r\\n\\t \\r\\n\\tvar etps = new Object();\\r\\n\\tetps.mobileNo= $(\"#mobileNo3\").val();\\r\\n\\tetps.captcha= $(\"#captcha3\").val();\\r\\n\\tvar judge=\"mobile\";\\r\\n\\t$.ajax({\\r\\n\\t\\ttype: \"POST\",\\r\\n\\t\\turl:\"http://xwqy.gsxt.gov.cn/etps/checkUser\",\\r\\n\\t\\tdata:{\\r\\n\\t\\t\\t\"mobileNo\":Base.encode(etps.mobileNo),\\r\\n\\t\\t\\t\"captcha\":etps.captcha,\\r\\n\\t\\t\\t\"judge\":judge\\r\\n\\t\\t},\\r\\n\\t\\tasync: false,\\r\\n\\t\\tsuccess: function(data) {\\r\\n\\t\\t\\tvar d = eval(\"(\"+data+\")\");\\r\\n       \\tif(d.code == \\'200\\'){\\r\\n       \\t\\t$.ajax({\\r\\n\\t\\t\\t\\t\\ttype: \"POST\",\\r\\n\\t\\t\\t\\t\\turl:\"http://xwqy.gsxt.gov.cn/etps/judgeLogin\",\\r\\n\\t\\t\\t\\t\\tdata:{\\r\\n\\t\\t\\t\\t\\t\\t\"loginName\":d.loginName\\r\\n\\t\\t\\t\\t\\t},\\r\\n\\t\\t\\t\\t\\tasync: false,\\r\\n\\t\\t\\t\\t\\tsuccess: function(data) {\\r\\n\\t\\t\\t\\t\\t\\tvar d = eval(\"(\"+data+\")\");\\r\\n\\t\\t\\t        \\tif(d.code == \\'200\\'){\\r\\n\\t\\t\\t        \\t\\tvar form = $(document.createElement(\"form\")).attr(\"target\", \"_blank \").attr(\"method\", \"POST\").attr(\"action\", \"http://xwqy.gsxt.gov.cn/etps/productAppList\");\\r\\n\\t\\t\\t        \\t\\tform.appendTo(\"body\").submit(); \\r\\n\\t\\t\\t        \\t\\toperClose3();\\r\\n\\t\\t\\t        \\t}else if(d.code==\\'402\\'){\\r\\n\\t\\t\\t        \\t\\tvar info= confirm(d.message);\\r\\n\\t\\t\\t        \\t\\tif(info==false){\\r\\n\\t\\t\\t        \\t\\t\\tvar form = $(document.createElement(\"form\")).attr(\"method\", \"POST\").attr(\"target\", \"_self\").attr(\"action\", \"http://xwqy.gsxt.gov.cn/etps/productInfoList\");\\r\\n\\t  \\t\\t            \\t\\tform.appendTo(\"body\").submit(); \\r\\n\\t\\t\\t        \\t\\t}else{\\r\\n\\t\\t\\t        \\t\\t   //跳转至补全信息\\r\\n\\t\\t\\t        \\t\\t\\tvar form = $(document.createElement(\"form\")).attr(\"method\", \"POST\").attr(\"target\", \"_self\").attr(\"action\", \"http://xwqy.gsxt.gov.cn/etps/complement_info\");\\r\\n\\t\\t\\t        \\t\\t\\t$(document.createElement(\"input\")).attr(\"type\", \"hidden\").attr(\"name\", \"loginName\").val($(\"#loginName\").val()).appendTo(form);\\r\\n\\t\\t\\t        \\t\\t\\t$(document.createElement(\"input\")).attr(\"type\", \"hidden\").attr(\"name\", \"id\").val($(\"#id\").val()).appendTo(form);\\r\\n\\t\\t\\t        \\t\\t\\tform.appendTo(\"body\").submit(); \\r\\n\\t\\t\\t        \\t\\t}\\r\\n\\t\\t\\t        \\t}else{\\r\\n\\t\\t\\t        \\t\\tdlog.tips(d.message);\\r\\n\\t\\t\\t        \\t}\\r\\n\\t\\t\\t\\t\\t}\\r\\n\\t\\t\\t\\t}); \\t\\r\\n       \\t\\t\\r\\n       \\t}else{\\r\\n       \\t\\tdlog.tips(d.message);\\r\\n       \\t}\\r\\n       \\t\\r\\n\\t\\t}\\r\\n\\t});\\r\\n}\\r\\n</script>\\r\\n<script type=\"text/javascript\">\\r\\n$(function(){\\r\\n\\t//查询方法\\r\\n  $(\\'#selButton\\').click(function(){\\r\\n\\t  pageGo(1);\\r\\n  });\\r\\n\\t//开启指引\\r\\n  var x = document.cookie;\\r\\n  if(x.indexOf(\\'pass\\')==-1){\\r\\n\\t  guide();//指引  \\r\\n  }\\r\\n});\\r\\nfunction changeStyle(){\\r\\n\\t\\r\\n\\t$(\"#pageStyle\").val(\"list\");\\r\\n\\tpageGo(1);\\r\\n}\\r\\nfunction pageGo(pageNo){//支持分页查询\\r\\n\\t  if(pageNo==-1){\\r\\n\\t\\t  pageNo = $(\\'#pageNos\\').val();\\r\\n\\t\\t   \\tif(pageNo == \"\" ||pageNo == null ){\\r\\n \\t           return ;\\r\\n \\t  \\t\\t}\\r\\n\\t\\t   pageCount = 5;\\r\\n\\t\\t  if(pageNo > pageCount)\\r\\n\\t\\t  {\\r\\n\\t\\t  \\tpageNo = pageCount;\\r\\n\\t\\t  }\\r\\n\\t  }\\r\\n\\t  $(\"#pno\").val(pageNo);\\t\\r\\n\\t  $(\"#baseApplyForm\").submit();\\r\\n}\\r\\n//申请\\r\\nfunction appPage(id){\\r\\n\\turl = \"/etps/searchById.do\";\\r\\n\\turl = url+\"?id=\"+id;//在URL后面加上要传递的值\\r\\n\\twindow.location.href=url;\\r\\n}\\r\\n//产品详情\\r\\nfunction funcApp(id){\\r\\n\\turl = \"/etps/searchById.do\";\\r\\n\\turl = url+\"?id=\"+id;//在URL后面加上要传递的值\\r\\n\\twindow.open(url);\\r\\n \\r\\n}\\r\\n//我的申请\\r\\n/* function myApp() { \\r\\n\\tvar etps = new Object();\\r\\n\\tetps.loginName= $(\"#loginName\").val();\\r\\n\\t//TODO 判断不为空  alert \\r\\n\\t$.ajax({\\r\\n\\t\\ttype: \"POST\",\\r\\n\\t\\turl:\"http://xwqy.gsxt.gov.cn/etps/judgeLogin\",\\r\\n\\t\\tdata:{\\r\\n\\t\\t\\t\"loginName\":etps.loginName\\r\\n\\t\\t},\\r\\n\\t\\tsuccess: function(data) {\\r\\n\\t\\t\\tvar d = eval(\"(\"+data+\")\");\\r\\n        \\tif(d.code == \\'200\\'){\\r\\n        \\t\\tvar form = $(document.createElement(\"form\")).attr(\"method\", \"POST\").attr(\"target\", \"_blank \").attr(\"action\", \"http://xwqy.gsxt.gov.cn/etps/product_app\");\\r\\n        \\t\\tform.appendTo(\"body\").submit(); \\r\\n        \\t}else if(d.code==\"401\"){\\r\\n        \\t\\tvar info= confirm(d.message);\\r\\n        \\t\\tif(info==true){\\r\\n        \\t\\t\\tvar form = $(document.createElement(\"form\")).attr(\"method\", \"POST\").attr(\"target\", \"_self\").attr(\"action\", \"http://xwqy.gsxt.gov.cn/etps/login\");\\r\\n        \\t\\t\\tform.appendTo(\"body\").submit(); \\t\\r\\n        \\t\\t}\\r\\n        \\t}else  if(d.code==\\'402\\'){\\r\\n        \\t\\tvar info= confirm(d.message);\\r\\n        \\t\\tif(info==true){\\r\\n        \\t\\t\\tvar form = $(document.createElement(\"form\")).attr(\"method\", \"POST\").attr(\"target\", \"_self\").attr(\"action\", \"http://xwqy.gsxt.gov.cn/etps/complement_info\");\\r\\n        \\t\\t\\t$(document.createElement(\"input\")).attr(\"type\", \"hidden\").attr(\"name\", \"loginName\").val($(\"#loginName\").val()).appendTo(form);\\r\\n        \\t\\t\\tform.appendTo(\"body\").submit(); \\r\\n        \\t\\t}\\r\\n    \\t}else{\\r\\n    \\t\\talert(d.message);\\r\\n    \\t}\\r\\n\\t\\t}\\r\\n\\t});\\r\\n\\t\\r\\n} */\\r\\n//请登录\\r\\nfunction login() { \\r\\n\\tvar form = $(document.createElement(\"form\")).attr(\"method\", \"POST\").attr(\"target\", \"_self\").attr(\"action\", \"http://xwqy.gsxt.gov.cn/etps/login\");\\r\\n\\tform.appendTo(\"body\").submit(); \\t\\r\\n}\\r\\n//指引-登录\\r\\nfunction guide(){\\r\\n\\t$(\"#etpsUser\").addClass(\"guide\");\\r\\n\\t$(\"#guide_user1\").css(\"display\",\"\");\\r\\n\\t$(\"#guide_user2\").css(\"display\",\"\");\\r\\n\\t$(\"#guide_user3\").css(\"display\",\"\");\\r\\n\\t$(\"#guide_user4\").css(\"display\",\"\");\\r\\n\\t$(\"#guide_pass\").css(\"display\",\"\");\\r\\n\\t$(\"#hiddenDiv\").css(\"visibility\",\"visible\");//通用遮罩\\r\\n\\twindow.scrollTo(0,0);\\r\\n}\\r\\nfunction changeGuide(par,id){\\r\\n\\tif(par==\\'move\\'){\\r\\n\\t\\t$(\"#\"+id).attr(\"src\",\"images/bankEtps/know_blue.png\");\\r\\n\\t}\\r\\n\\tif(par==\\'out\\'){\\r\\n\\t\\t$(\"#\"+id).attr(\"src\",\"images/bankEtps/know_white.png\");\\r\\n\\t}\\r\\n}\\r\\n\\r\\n//登录指引关闭\\r\\nfunction closeGuide(a){\\r\\n\\t$(\"#etpsUser\").removeClass(\"guide\");\\r\\n\\t$(\"#guide_user1\").css(\"display\",\"none\");\\r\\n\\t$(\"#guide_user2\").css(\"display\",\"none\");\\r\\n\\t$(\"#guide_user3\").css(\"display\",\"none\");\\r\\n\\t$(\"#guide_user4\").css(\"display\",\"none\");\\r\\n\\tif(a==\\'1\\'){\\r\\n\\t\\tconditionGuide();\\t\\r\\n\\t}\\r\\n}\\r\\n//指引-条件\\r\\nfunction conditionGuide(){\\r\\n\\t$(\"#guide1\").addClass(\"guide1\");\\r\\n\\t$(\"#guide1\").css(\"width\",\"65%\");\\r\\n\\t$(\"#guide_condition1\").css(\"display\",\"\");\\r\\n\\t$(\"#guide_condition2\").css(\"display\",\"\");\\r\\n\\t$(\"#guide_condition3\").css(\"display\",\"\");\\r\\n}\\r\\n\\r\\nfunction nextGuide(par,id){\\r\\n\\tif(par==\\'move\\'){\\r\\n\\t\\t$(\"#\"+id).attr(\"src\",\"images/bankEtps/next_blue.png\");\\r\\n\\t}\\r\\n\\tif(par==\\'out\\'){\\r\\n\\t\\t$(\"#\"+id).attr(\"src\",\"images/bankEtps/next_white.png\");\\r\\n\\t}\\r\\n}\\r\\n\\r\\n//条件指引关闭\\r\\nfunction closeConditionGuide(a){\\r\\n\\t$(\"#guide1\").removeClass(\"guide1\");\\r\\n\\t$(\"#guide1\").css(\"width\",\"\");\\r\\n\\t$(\"#guide_condition1\").css(\"display\",\"none\");\\r\\n\\t$(\"#guide_condition2\").css(\"display\",\"none\");\\r\\n\\t$(\"#guide_condition3\").css(\"display\",\"none\");\\r\\n\\tif(a==\\'1\\'){\\r\\n\\t\\torderGuide();\\r\\n\\t}\\r\\n}\\r\\n//指引-排序\\r\\nfunction orderGuide(){\\r\\n\\t$(\"#guide2\").css(\"display\",\"\");\\r\\n\\t$(\"#guide_order1\").css(\"display\",\"\");\\r\\n\\t$(\"#guide_order2\").css(\"display\",\"\");\\r\\n\\t$(\"#guide_order3\").css(\"display\",\"\");\\r\\n\\t$(\"#guide_order4\").css(\"display\",\"\");\\r\\n\\twindow.scrollTo(0,(document.body.scrollHeight)/5);\\r\\n}\\r\\n//排序指引关闭\\r\\nfunction closeOrderGuide(a){\\r\\n\\t$(\"#guide2\").css(\"display\",\"none\");\\r\\n\\t$(\"#guide_order1\").css(\"display\",\"none\");\\r\\n\\t$(\"#guide_order2\").css(\"display\",\"none\");\\r\\n\\t$(\"#guide_order3\").css(\"display\",\"none\");\\r\\n\\t$(\"#guide_order4\").css(\"display\",\"none\");\\r\\n\\tif(a==\\'1\\'){\\r\\n\\t\\tpageGuide();\\r\\n\\t}\\r\\n}\\r\\n\\r\\n//指引-翻页上\\r\\nfunction pageGuide(){\\r\\n\\t$(\"#guide4\").css(\"display\",\"\");\\r\\n\\t$(\"#guide_page1\").css(\"display\",\"\");\\r\\n\\t$(\"#guide_page2\").css(\"display\",\"\");\\r\\n\\t$(\"#guide_page3\").css(\"display\",\"\");\\r\\n}\\r\\n//翻页上指引关闭\\r\\nfunction closePageGuide(a){\\r\\n\\t$(\"#guide4\").css(\"display\",\"none\");\\r\\n\\t$(\"#guide_page1\").css(\"display\",\"none\");\\r\\n\\t$(\"#guide_page2\").css(\"display\",\"none\");\\r\\n\\t$(\"#guide_page3\").css(\"display\",\"none\");\\r\\n\\tif(a==\\'1\\'){\\r\\n\\t\\tpage2Guide();\\t\\r\\n\\t}\\r\\n}\\r\\n//指引-翻页下\\r\\nfunction page2Guide(){\\r\\n\\t$(\"#guide5\").css(\"display\",\"\");\\r\\n\\t$(\"#guide_page4\").css(\"display\",\"\");\\r\\n\\t$(\"#guide_page5\").css(\"display\",\"\");\\r\\n\\t$(\"#guide_page6\").css(\"display\",\"\");\\r\\n\\twindow.scrollTo(0,document.body.scrollHeight);\\r\\n}\\r\\n//翻页下指引关闭\\r\\nfunction closePage2Guide(a){\\r\\n\\t$(\"#guide5\").css(\"display\",\"none\");\\r\\n\\t$(\"#guide_page4\").css(\"display\",\"none\");\\r\\n\\t$(\"#guide_page5\").css(\"display\",\"none\");\\r\\n\\t$(\"#guide_page6\").css(\"display\",\"none\");\\r\\n\\tif(a==\\'1\\'){\\r\\n\\t\\tapplyGuide();\\r\\n\\t}\\r\\n}\\r\\n//指引-申请\\r\\nfunction applyGuide(){\\r\\n\\t$(\"#guide3\").css(\"display\",\"\");\\r\\n\\t$(\"#guide_apply1\").css(\"display\",\"\");\\r\\n\\t$(\"#guide_apply2\").css(\"display\",\"\");\\r\\n\\t$(\"#guide_apply3\").css(\"display\",\"\");\\r\\n\\twindow.scrollTo(0,(document.body.scrollHeight)/5);\\r\\n}\\r\\n//申请指引关闭\\r\\nfunction closeApplyGuide(a){\\r\\n\\t$(\"#guide3\").css(\"display\",\"none\");\\r\\n\\t$(\"#guide_apply1\").css(\"display\",\"none\");\\r\\n\\t$(\"#guide_apply2\").css(\"display\",\"none\");\\r\\n\\t$(\"#guide_apply3\").css(\"display\",\"none\");\\r\\n\\t$(\"#guide_pass\").css(\"display\",\"none\");\\r\\n\\t$(\"#hiddenDiv\").css(\"visibility\",\"hidden\");\\r\\n\\tif(a==\\'1\\'){\\r\\n\\t\\tappPage(\\'0000000065f68eaa01662428747d013c\\');\\r\\n\\t}\\r\\n}\\r\\n//关闭全部指引\\r\\nfunction PassGuide(){\\r\\n\\t$(\"#guide_pass\").css(\"display\",\"none\");\\r\\n\\tdocument.cookie=\"pass;path=/\";\\r\\n\\tcloseGuide();\\r\\n\\tcloseConditionGuide();\\r\\n\\tcloseOrderGuide();\\r\\n\\tcloseApplyGuide();\\r\\n\\tclosePageGuide();\\r\\n\\tclosePage2Guide();\\r\\n}\\r\\n</script>\\r\\n</body>\\r\\n</html>\\r\\n</div>\\r\\n<div class=\"footer\">\\r\\n\\t <p>版权所有：国家市场监督管理总局</p>\\r\\n\\t <p>地址：北京市西城区三里河东路八号&nbsp;&nbsp;邮政编码：100820&nbsp;&nbsp;技术支持电话：010-88650856</p>\\r\\n</div>\\r\\n</body>\\r\\n</html>'"
     },
     "metadata": {},
     "execution_count": 9
    }
   ],
   "source": [
    "import requests\n",
    "def getHtmlByPost(url,queryload):\n",
    "    try:\n",
    "        headers = {\"User-Agent\":\"Mozilla/5.0 (Windows NT 10.0; Win64; x64) AppleWebKit/537.36 (KHTML, like Gecko) Chrome/84.0.4147.105 Safari/537.36 Edg/84.0.522.52\"}\n",
    "        r = requests.post(url,data = queryload,headers = headers)\n",
    "        r.raise_for_status()\n",
    "        r.encoding = r.apparent_encoding\n",
    "        return r.text\n",
    "    except:\n",
    "        return \"Some exception raised.\"\n",
    "    \n",
    "url = \"http://xwqy.gsxt.gov.cn/etps/productInfoList.do\"\n",
    "formdata = {'loanQuota':'100万元及以下'}\n",
    "getHtmlByPost(url,formdata)"
   ]
  },
  {
   "cell_type": "markdown",
   "metadata": {},
   "source": [
    "## cookie"
   ]
  },
  {
   "cell_type": "code",
   "execution_count": 10,
   "metadata": {},
   "outputs": [
    {
     "data": {
      "text/plain": [
       "'Some exception raised.'"
      ]
     },
     "execution_count": 10,
     "metadata": {},
     "output_type": "execute_result"
    }
   ],
   "source": [
    "import requests\n",
    "def getHtml(url,cookies):\n",
    "    try:\n",
    "        headers = {\"User-Agent\":\"Mozilla/5.0 (Windows NT 10.0; Win64; x64) AppleWebKit/537.36 (KHTML, like Gecko) Chrome/84.0.4147.105 Safari/537.36 Edg/84.0.522.52\"}\n",
    "        s = request.Session()\n",
    "        s.cookies.update(cookies)\n",
    "        r = s.get(url,headers = headers)\n",
    "        r.raise_for_status()\n",
    "        r.encoding = r.apparent_encoding\n",
    "        return r.text\n",
    "    except:\n",
    "        return \"Some exception raised.\"\n",
    "    \n",
    "url = \"http://i.baidu.com/\"\n",
    "cookies = dict(\n",
    "    BIDUPSID='57624A035A4AFDDD01199BB25614BEFB',\n",
    "    PSTM='1595946630',\n",
    "    BAIDUID='57624A035A4AFDDD09F15BCA863EF088:FG=1',\n",
    "    BDORZ='B490B5EBF6F3CD402E515D22BCDA1598',\n",
    "    delPer='0',\n",
    "    PSINO='7',\n",
    "    H_PS_PSSID='32293_1464_32439_32357_32328_31254_32046_32399_32429_32116_31321',\n",
    "    PHPSESSID='hm2f72pcvptvmmk749t2dbgcu1',\n",
    "    Hm_lvt_4010fd5075fcfe46a16ec4cb65e02f04='1596441238',\n",
    "    BDUSS='XIyNWRJVXZBdGlqdW1YQn5xTVI3Q2FmME41UllPOFVXLTZSd3V0OHE4SDZUMDlmSVFBQUFBJCQAAAAAABAAAAEAAAC94LT6AAAAAAAAAAAAAAAAAAAAAAAAAAAAAAAAAAAAAAAAAAAAAAAAAAAAAAAAAAAAAAAAAAAAAAAAAAAAAAAAAAAAAPrCJ1~6widfM',\n",
    "    Hm_lpvt_4010fd5075fcfe46a16ec4cb65e02f04='1596441340')\n",
    "cookies['BDRCVFR\\[feWjlVrSu3D]']='I67x6TjHuwYf0'\n",
    "getHtml(url,cookies)"
   ]
  }
 ],
 "metadata": {
  "kernelspec": {
   "display_name": "Python 3",
   "language": "python",
   "name": "python3"
  },
  "language_info": {
   "codemirror_mode": {
    "name": "ipython",
    "version": 3
   },
   "file_extension": ".py",
   "mimetype": "text/x-python",
   "name": "python",
   "nbconvert_exporter": "python",
   "pygments_lexer": "ipython3",
   "version": "3.8.3-final"
  }
 },
 "nbformat": 4,
 "nbformat_minor": 4
}